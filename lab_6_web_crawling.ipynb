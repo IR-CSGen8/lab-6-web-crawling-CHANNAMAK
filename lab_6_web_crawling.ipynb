{
 "cells": [
  {
   "cell_type": "code",
   "execution_count": 2,
   "id": "d05f4286",
   "metadata": {},
   "outputs": [
    {
     "name": "stdout",
     "output_type": "stream",
     "text": [
      "Requirement already satisfied: holoviews in /Users/makchanna128gmail.com/opt/anaconda3/lib/python3.9/site-packages (1.14.8)\n",
      "Requirement already satisfied: pandas>=0.20.0 in /Users/makchanna128gmail.com/opt/anaconda3/lib/python3.9/site-packages (from holoviews) (1.4.2)\n",
      "Requirement already satisfied: pyviz-comms>=0.7.4 in /Users/makchanna128gmail.com/opt/anaconda3/lib/python3.9/site-packages (from holoviews) (2.0.2)\n",
      "Requirement already satisfied: packaging in /Users/makchanna128gmail.com/opt/anaconda3/lib/python3.9/site-packages (from holoviews) (21.3)\n",
      "Requirement already satisfied: colorcet in /Users/makchanna128gmail.com/opt/anaconda3/lib/python3.9/site-packages (from holoviews) (2.0.6)\n",
      "Requirement already satisfied: param<2.0,>=1.9.3 in /Users/makchanna128gmail.com/opt/anaconda3/lib/python3.9/site-packages (from holoviews) (1.12.0)\n",
      "Requirement already satisfied: panel>=0.8.0 in /Users/makchanna128gmail.com/opt/anaconda3/lib/python3.9/site-packages (from holoviews) (0.13.0)\n",
      "Requirement already satisfied: numpy>=1.0 in /Users/makchanna128gmail.com/opt/anaconda3/lib/python3.9/site-packages (from holoviews) (1.21.5)\n",
      "Requirement already satisfied: python-dateutil>=2.8.1 in /Users/makchanna128gmail.com/opt/anaconda3/lib/python3.9/site-packages (from pandas>=0.20.0->holoviews) (2.8.2)\n",
      "Requirement already satisfied: pytz>=2020.1 in /Users/makchanna128gmail.com/opt/anaconda3/lib/python3.9/site-packages (from pandas>=0.20.0->holoviews) (2021.3)\n",
      "Requirement already satisfied: bleach in /Users/makchanna128gmail.com/opt/anaconda3/lib/python3.9/site-packages (from panel>=0.8.0->holoviews) (4.1.0)\n",
      "Requirement already satisfied: pyct>=0.4.4 in /Users/makchanna128gmail.com/opt/anaconda3/lib/python3.9/site-packages (from panel>=0.8.0->holoviews) (0.4.6)\n",
      "Requirement already satisfied: markdown in /Users/makchanna128gmail.com/opt/anaconda3/lib/python3.9/site-packages (from panel>=0.8.0->holoviews) (3.3.4)\n",
      "Requirement already satisfied: tqdm>=4.48.0 in /Users/makchanna128gmail.com/opt/anaconda3/lib/python3.9/site-packages (from panel>=0.8.0->holoviews) (4.64.0)\n",
      "Requirement already satisfied: requests in /Users/makchanna128gmail.com/opt/anaconda3/lib/python3.9/site-packages (from panel>=0.8.0->holoviews) (2.27.1)\n",
      "Requirement already satisfied: bokeh<2.5.0,>=2.4.0 in /Users/makchanna128gmail.com/opt/anaconda3/lib/python3.9/site-packages (from panel>=0.8.0->holoviews) (2.4.2)\n",
      "Requirement already satisfied: tornado>=5.1 in /Users/makchanna128gmail.com/opt/anaconda3/lib/python3.9/site-packages (from bokeh<2.5.0,>=2.4.0->panel>=0.8.0->holoviews) (6.1)\n",
      "Requirement already satisfied: pillow>=7.1.0 in /Users/makchanna128gmail.com/opt/anaconda3/lib/python3.9/site-packages (from bokeh<2.5.0,>=2.4.0->panel>=0.8.0->holoviews) (9.0.1)\n",
      "Requirement already satisfied: Jinja2>=2.9 in /Users/makchanna128gmail.com/opt/anaconda3/lib/python3.9/site-packages (from bokeh<2.5.0,>=2.4.0->panel>=0.8.0->holoviews) (2.11.3)\n",
      "Requirement already satisfied: PyYAML>=3.10 in /Users/makchanna128gmail.com/opt/anaconda3/lib/python3.9/site-packages (from bokeh<2.5.0,>=2.4.0->panel>=0.8.0->holoviews) (6.0)\n",
      "Requirement already satisfied: typing-extensions>=3.10.0 in /Users/makchanna128gmail.com/opt/anaconda3/lib/python3.9/site-packages (from bokeh<2.5.0,>=2.4.0->panel>=0.8.0->holoviews) (4.1.1)\n",
      "Requirement already satisfied: MarkupSafe>=0.23 in /Users/makchanna128gmail.com/opt/anaconda3/lib/python3.9/site-packages (from Jinja2>=2.9->bokeh<2.5.0,>=2.4.0->panel>=0.8.0->holoviews) (2.0.1)\n",
      "Requirement already satisfied: pyparsing!=3.0.5,>=2.0.2 in /Users/makchanna128gmail.com/opt/anaconda3/lib/python3.9/site-packages (from packaging->holoviews) (3.0.4)\n",
      "Requirement already satisfied: six>=1.5 in /Users/makchanna128gmail.com/opt/anaconda3/lib/python3.9/site-packages (from python-dateutil>=2.8.1->pandas>=0.20.0->holoviews) (1.16.0)\n",
      "Requirement already satisfied: webencodings in /Users/makchanna128gmail.com/opt/anaconda3/lib/python3.9/site-packages (from bleach->panel>=0.8.0->holoviews) (0.5.1)\n",
      "Requirement already satisfied: urllib3<1.27,>=1.21.1 in /Users/makchanna128gmail.com/opt/anaconda3/lib/python3.9/site-packages (from requests->panel>=0.8.0->holoviews) (1.26.9)\n",
      "Requirement already satisfied: certifi>=2017.4.17 in /Users/makchanna128gmail.com/opt/anaconda3/lib/python3.9/site-packages (from requests->panel>=0.8.0->holoviews) (2021.10.8)\n",
      "Requirement already satisfied: charset-normalizer~=2.0.0 in /Users/makchanna128gmail.com/opt/anaconda3/lib/python3.9/site-packages (from requests->panel>=0.8.0->holoviews) (2.0.4)\n",
      "Requirement already satisfied: idna<4,>=2.5 in /Users/makchanna128gmail.com/opt/anaconda3/lib/python3.9/site-packages (from requests->panel>=0.8.0->holoviews) (3.3)\n"
     ]
    }
   ],
   "source": [
    "%pip install holoviews"
   ]
  },
  {
   "cell_type": "code",
   "execution_count": 1,
   "id": "1185aef4",
   "metadata": {},
   "outputs": [
    {
     "name": "stdout",
     "output_type": "stream",
     "text": [
      "Requirement already satisfied: networkx in /Users/makchanna128gmail.com/opt/anaconda3/lib/python3.9/site-packages (2.7.1)\n",
      "Note: you may need to restart the kernel to use updated packages.\n"
     ]
    }
   ],
   "source": [
    "#pip install networkx"
   ]
  },
  {
   "cell_type": "code",
   "execution_count": 3,
   "id": "adcd55ac",
   "metadata": {},
   "outputs": [],
   "source": [
    "import re\n",
    "import requests\n",
    "import pandas as pd\n",
    "import holoviews as hv\n",
    "import networkx as nx\n",
    "from holoviews import opts\n",
    "from bs4 import BeautifulSoup\n",
    "from urllib.request import urljoin\n"
   ]
  },
  {
   "cell_type": "code",
   "execution_count": 17,
   "id": "40bc10bd",
   "metadata": {},
   "outputs": [
    {
     "name": "stderr",
     "output_type": "stream",
     "text": [
      "/var/folders/72/vzkxgk9s7fq49mr_t97r12ch0000gn/T/ipykernel_72448/3924043328.py:8: FutureWarning: The frame.append method is deprecated and will be removed from pandas in a future version. Use pandas.concat instead.\n",
      "  sites = sites.append(pd.DataFrame([{'link': link, 'parent': site, 'depth': current_depth + 1}\n",
      "/var/folders/72/vzkxgk9s7fq49mr_t97r12ch0000gn/T/ipykernel_72448/3924043328.py:8: FutureWarning: The frame.append method is deprecated and will be removed from pandas in a future version. Use pandas.concat instead.\n",
      "  sites = sites.append(pd.DataFrame([{'link': link, 'parent': site, 'depth': current_depth + 1}\n",
      "/var/folders/72/vzkxgk9s7fq49mr_t97r12ch0000gn/T/ipykernel_72448/3924043328.py:8: FutureWarning: The frame.append method is deprecated and will be removed from pandas in a future version. Use pandas.concat instead.\n",
      "  sites = sites.append(pd.DataFrame([{'link': link, 'parent': site, 'depth': current_depth + 1}\n"
     ]
    }
   ],
   "source": [
    "sites = \"https://www.google.com/\" #@param {type:\"string\"}\n",
    "depth = 3 #@param {type:\"slider\", min:1, max:10, step:1}\n",
    "max_child = 10 #@param {type:\"slider\", min:1, max:100, step:1}\n",
    "\n",
    "def crawl(sites, depth=1, current_depth=0, max_child=10):\n",
    "    get_links = lambda site: pd.Series(urljoin(site, tag.get('href')) for tag in BeautifulSoup(requests.get(site).text).find_all('a')).drop_duplicates().head(max_child)\n",
    "    \n",
    "    sites = sites.append(pd.DataFrame([{'link': link, 'parent': site, 'depth': current_depth + 1}\n",
    "                                       for site in sites[sites.depth == current_depth].link\n",
    "                                       for link in get_links(site)]), \n",
    "                         ignore_index=True).drop_duplicates('link')\n",
    "    \n",
    "    if depth > current_depth + 1:\n",
    "        return crawl(sites, depth=depth, current_depth=current_depth+1, max_child=max_child)\n",
    "    else:\n",
    "        return sites\n",
    "\n",
    "\n",
    "result = crawl(sites=pd.DataFrame([{'link': site, 'depth': 0, 'parent': site} for site in sites.split()]), \n",
    "               max_child=max_child,\n",
    "               depth=depth)"
   ]
  },
  {
   "cell_type": "code",
   "execution_count": 18,
   "id": "6c7ceb7a",
   "metadata": {},
   "outputs": [
    {
     "data": {
      "text/html": [
       "<div>\n",
       "<style scoped>\n",
       "    .dataframe tbody tr th:only-of-type {\n",
       "        vertical-align: middle;\n",
       "    }\n",
       "\n",
       "    .dataframe tbody tr th {\n",
       "        vertical-align: top;\n",
       "    }\n",
       "\n",
       "    .dataframe thead th {\n",
       "        text-align: right;\n",
       "    }\n",
       "</style>\n",
       "<table border=\"1\" class=\"dataframe\">\n",
       "  <thead>\n",
       "    <tr style=\"text-align: right;\">\n",
       "      <th></th>\n",
       "      <th>link</th>\n",
       "      <th>depth</th>\n",
       "      <th>parent</th>\n",
       "    </tr>\n",
       "  </thead>\n",
       "  <tbody>\n",
       "    <tr>\n",
       "      <th>0</th>\n",
       "      <td>https://www.google.com/</td>\n",
       "      <td>0</td>\n",
       "      <td>https://www.google.com/</td>\n",
       "    </tr>\n",
       "    <tr>\n",
       "      <th>1</th>\n",
       "      <td>https://www.google.com/imghp?hl=km&amp;tab=wi</td>\n",
       "      <td>1</td>\n",
       "      <td>https://www.google.com/</td>\n",
       "    </tr>\n",
       "    <tr>\n",
       "      <th>2</th>\n",
       "      <td>https://maps.google.com.kh/maps?hl=km&amp;tab=wl</td>\n",
       "      <td>1</td>\n",
       "      <td>https://www.google.com/</td>\n",
       "    </tr>\n",
       "    <tr>\n",
       "      <th>3</th>\n",
       "      <td>https://play.google.com/?hl=km&amp;tab=w8</td>\n",
       "      <td>1</td>\n",
       "      <td>https://www.google.com/</td>\n",
       "    </tr>\n",
       "    <tr>\n",
       "      <th>4</th>\n",
       "      <td>https://news.google.com/?tab=wn</td>\n",
       "      <td>1</td>\n",
       "      <td>https://www.google.com/</td>\n",
       "    </tr>\n",
       "    <tr>\n",
       "      <th>...</th>\n",
       "      <td>...</td>\n",
       "      <td>...</td>\n",
       "      <td>...</td>\n",
       "    </tr>\n",
       "    <tr>\n",
       "      <th>477</th>\n",
       "      <td>https://www.google.com/technologies?hl=km&amp;fg=1</td>\n",
       "      <td>3</td>\n",
       "      <td>https://www.google.com/url?q=https://policies....</td>\n",
       "    </tr>\n",
       "    <tr>\n",
       "      <th>478</th>\n",
       "      <td>https://www.google.com/faq?hl=km&amp;fg=1</td>\n",
       "      <td>3</td>\n",
       "      <td>https://www.google.com/url?q=https://policies....</td>\n",
       "    </tr>\n",
       "    <tr>\n",
       "      <th>480</th>\n",
       "      <td>https://www.google.com/privacy/frameworks?hl=k...</td>\n",
       "      <td>3</td>\n",
       "      <td>https://www.google.com/url?q=https://policies....</td>\n",
       "    </tr>\n",
       "    <tr>\n",
       "      <th>483</th>\n",
       "      <td>https://accounts.google.com/ServiceLogin?passi...</td>\n",
       "      <td>3</td>\n",
       "      <td>https://www.google.com/url?q=https://policies....</td>\n",
       "    </tr>\n",
       "    <tr>\n",
       "      <th>490</th>\n",
       "      <td>https://www.google.com/terms/archive?hl=km&amp;fg=1</td>\n",
       "      <td>3</td>\n",
       "      <td>https://www.google.com/url?q=https://policies....</td>\n",
       "    </tr>\n",
       "  </tbody>\n",
       "</table>\n",
       "<p>241 rows × 3 columns</p>\n",
       "</div>"
      ],
      "text/plain": [
       "                                                  link  depth  \\\n",
       "0                              https://www.google.com/      0   \n",
       "1            https://www.google.com/imghp?hl=km&tab=wi      1   \n",
       "2         https://maps.google.com.kh/maps?hl=km&tab=wl      1   \n",
       "3                https://play.google.com/?hl=km&tab=w8      1   \n",
       "4                      https://news.google.com/?tab=wn      1   \n",
       "..                                                 ...    ...   \n",
       "477     https://www.google.com/technologies?hl=km&fg=1      3   \n",
       "478              https://www.google.com/faq?hl=km&fg=1      3   \n",
       "480  https://www.google.com/privacy/frameworks?hl=k...      3   \n",
       "483  https://accounts.google.com/ServiceLogin?passi...      3   \n",
       "490    https://www.google.com/terms/archive?hl=km&fg=1      3   \n",
       "\n",
       "                                                parent  \n",
       "0                              https://www.google.com/  \n",
       "1                              https://www.google.com/  \n",
       "2                              https://www.google.com/  \n",
       "3                              https://www.google.com/  \n",
       "4                              https://www.google.com/  \n",
       "..                                                 ...  \n",
       "477  https://www.google.com/url?q=https://policies....  \n",
       "478  https://www.google.com/url?q=https://policies....  \n",
       "480  https://www.google.com/url?q=https://policies....  \n",
       "483  https://www.google.com/url?q=https://policies....  \n",
       "490  https://www.google.com/url?q=https://policies....  \n",
       "\n",
       "[241 rows x 3 columns]"
      ]
     },
     "execution_count": 18,
     "metadata": {},
     "output_type": "execute_result"
    }
   ],
   "source": [
    "result"
   ]
  },
  {
   "cell_type": "code",
   "execution_count": 32,
   "id": "d5785be6",
   "metadata": {},
   "outputs": [],
   "source": [
    "# this is just the example scenarios\n",
    "# from the results you can see the links \"https://support.google.com/websearch\", \"https://play.google.com\"\n",
    "# it could be the all services google site\n",
    "#Task 1: write the regular expression to get all the services of google\n",
    "#Task 2: Visualize the services : - how many services that google have?"
   ]
  },
  {
   "cell_type": "code",
   "execution_count": 36,
   "id": "a41cc653",
   "metadata": {},
   "outputs": [
    {
     "name": "stdout",
     "output_type": "stream",
     "text": [
      "['www.google.com']\n"
     ]
    }
   ],
   "source": [
    "import re\n",
    "\n",
    "url = \"https://www.google.com/\"\n",
    "services_pattern = r\"([a-zA-Z]+\\.google\\.[a-zA-Z.]+)\"\n",
    "services = re.findall(services_pattern, url)\n",
    "\n",
    "print(services)"
   ]
  },
  {
   "cell_type": "code",
   "execution_count": null,
   "id": "76cd2aa7",
   "metadata": {},
   "outputs": [],
   "source": []
  },
  {
   "cell_type": "code",
   "execution_count": null,
   "metadata": {},
   "outputs": [],
   "source": []
  },
  {
   "cell_type": "code",
   "execution_count": null,
   "id": "400e50d1",
   "metadata": {},
   "outputs": [],
   "source": []
  },
  {
   "cell_type": "code",
   "execution_count": null,
   "id": "703fe53e",
   "metadata": {},
   "outputs": [],
   "source": []
  },
  {
   "cell_type": "code",
   "execution_count": null,
   "id": "bbe5e8a1",
   "metadata": {},
   "outputs": [],
   "source": []
  },
  {
   "cell_type": "code",
   "execution_count": null,
   "id": "816d03fc",
   "metadata": {},
   "outputs": [],
   "source": []
  },
  {
   "cell_type": "code",
   "execution_count": null,
   "id": "d706ba59",
   "metadata": {},
   "outputs": [],
   "source": []
  },
  {
   "cell_type": "code",
   "execution_count": null,
   "id": "5fe78ac9",
   "metadata": {},
   "outputs": [],
   "source": []
  },
  {
   "cell_type": "code",
   "execution_count": null,
   "id": "59fd37a8",
   "metadata": {},
   "outputs": [],
   "source": []
  }
 ],
 "metadata": {
  "kernelspec": {
   "display_name": "Python 3",
   "language": "python",
   "name": "python3"
  },
  "language_info": {
   "codemirror_mode": {
    "name": "ipython",
    "version": 3
   },
   "file_extension": ".py",
   "mimetype": "text/x-python",
   "name": "python",
   "nbconvert_exporter": "python",
   "pygments_lexer": "ipython3",
   "version": "3.9.12"
  }
 },
 "nbformat": 4,
 "nbformat_minor": 5
}
